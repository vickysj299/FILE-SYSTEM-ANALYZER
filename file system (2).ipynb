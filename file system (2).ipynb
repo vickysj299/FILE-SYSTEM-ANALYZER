{
 "cells": [
  {
   "cell_type": "markdown",
   "id": "9b41bb5b-6262-4b17-a250-a2d75a734d5a",
   "metadata": {},
   "source": [
    "## to show directories"
   ]
  },
  {
   "cell_type": "code",
   "execution_count": null,
   "id": "8ae7fc8d-b64d-4317-878d-0ceba9cfb621",
   "metadata": {},
   "outputs": [],
   "source": [
    "import os\n",
    "\n",
    "def list_directories(path=\".\"):\n",
    "    try:\n",
    "        directories = [d for d in os.listdir(path) if os.path.isdir(os.path.join(path, d))]\n",
    "        return directories\n",
    "    except FileNotFoundError:\n",
    "        print(f\"Error: Directory '{path}' not found.\")\n",
    "        return []\n",
    "    except PermissionError:\n",
    "        print(f\"Error: Permission denied for '{path}'.\")\n",
    "        return []\n",
    "\n",
    "path_to_scan = r\"D:\\\\\"\n",
    "\n",
    "directories = list_directories(path_to_scan)\n",
    "\n",
    "print(\"Directories in\", path_to_scan)\n",
    "for directory in directories:\n",
    "    print(directory)\n"
   ]
  },
  {
   "cell_type": "markdown",
   "id": "71677f1c-a0e2-4541-995a-f6b2bc4e1f2c",
   "metadata": {},
   "source": [
    "## to show files inside directories"
   ]
  },
  {
   "cell_type": "code",
   "execution_count": null,
   "id": "b3974b4c-2b13-4df8-beeb-72d74e4029e4",
   "metadata": {},
   "outputs": [],
   "source": [
    "import os\n",
    "\n",
    "def list_files(path=\".\"):\n",
    "    try:\n",
    "        files = [f for f in os.listdir(path) if os.path.isfile(os.path.join(path, f))]\n",
    "        return files\n",
    "    except FileNotFoundError:\n",
    "        print(f\"Error: Directory '{path}' not found.\")\n",
    "        return []\n",
    "    except PermissionError:\n",
    "        print(f\"Error: Permission denied for '{path}'.\")\n",
    "        return []\n",
    "\n",
    "# Example usage\n",
    "path_to_scan = r\"D:\\mohadi trip\"  # Use a raw string to handle Windows paths\n",
    "files = list_files(path_to_scan)\n",
    "\n",
    "print(\"Files in\", path_to_scan)\n",
    "for file in files:\n",
    "    print(file)\n"
   ]
  },
  {
   "cell_type": "markdown",
   "id": "57bb2e2c-0de2-4a9f-9800-51ab2e5a9a98",
   "metadata": {},
   "source": [
    "## to sort files based on size"
   ]
  },
  {
   "cell_type": "code",
   "execution_count": null,
   "id": "060b2391-c768-47bc-83df-514fa6dbf2ad",
   "metadata": {},
   "outputs": [],
   "source": [
    "import os\n",
    "\n",
    "def list_files_with_size(path=\".\", sort_order=\"asc\"):\n",
    "    try:\n",
    "        files = []\n",
    "        for f in os.listdir(path):\n",
    "            full_path = os.path.join(path, f)\n",
    "            if os.path.isfile(full_path):\n",
    "                size = os.path.getsize(full_path)\n",
    "                files.append({\"name\": f, \"size\": size})\n",
    "\n",
    "        # Sorting the files based on size\n",
    "        files.sort(key=lambda x: x[\"size\"], reverse=(sort_order == \"desc\"))\n",
    "\n",
    "        return files\n",
    "\n",
    "    except FileNotFoundError:\n",
    "        print(f\"Error: Directory '{path}' not found.\")\n",
    "        return []\n",
    "    except PermissionError:\n",
    "        print(f\"Error: Permission denied for '{path}'.\")\n",
    "        return []\n",
    "\n",
    "# Example usage\n",
    "path_to_scan = r\"D:\\mohadi trip\"\n",
    "files = list_files_with_size(path_to_scan, sort_order=\"desc\")\n",
    "\n",
    "print(\"Files in\", path_to_scan)\n",
    "for file in files:\n",
    "    print(f\"{file['name']} - {file['size']} bytes\")\n"
   ]
  },
  {
   "cell_type": "markdown",
   "id": "e3357714-a082-4add-901a-9a5d957676f0",
   "metadata": {},
   "source": [
    "## to read image data"
   ]
  },
  {
   "cell_type": "code",
   "execution_count": null,
   "id": "2ea5c6b9-014a-478c-936f-3dd4439950fc",
   "metadata": {},
   "outputs": [],
   "source": [
    "import matplotlib.pyplot as plt\n",
    "from PIL import Image\n",
    "\n",
    "image_path = r\"D:\\mohadi trip\\IMG-20240630-WA0063.jpg\"\n",
    "\n",
    "try:\n",
    "    img = Image.open(image_path)\n",
    "    plt.imshow(img)\n",
    "    plt.axis(\"off\")  # Hide axis\n",
    "    plt.show()\n",
    "except FileNotFoundError:\n",
    "    print(f\"Error: Image '{image_path}' not found.\")\n",
    "except PermissionError:\n",
    "    print(f\"Error: Permission denied for '{image_path}'.\")\n",
    "except Exception as e:\n",
    "    print(f\"Error: {e}\")\n"
   ]
  }
 ],
 "metadata": {
  "kernelspec": {
   "display_name": "Python 3 (ipykernel)",
   "language": "python",
   "name": "python3"
  },
  "language_info": {
   "codemirror_mode": {
    "name": "ipython",
    "version": 3
   },
   "file_extension": ".py",
   "mimetype": "text/x-python",
   "name": "python",
   "nbconvert_exporter": "python",
   "pygments_lexer": "ipython3",
   "version": "3.12.4"
  }
 },
 "nbformat": 4,
 "nbformat_minor": 5
}
